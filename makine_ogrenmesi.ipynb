{
 "cells": [
  {
   "cell_type": "markdown",
   "metadata": {},
   "source": [
    "VERİ SETİ OLUŞTURMA"
   ]
  },
  {
   "cell_type": "code",
   "execution_count": null,
   "metadata": {},
   "outputs": [
    {
     "name": "stdout",
     "output_type": "stream",
     "text": [
      "Veri seti başarıyla oluşturuldu ve 'ogrenci_katilim.csv' dosyasına kaydedildi!\n",
      "katilim\n",
      "geldi      259\n",
      "gelmedi    241\n",
      "Name: count, dtype: int64\n"
     ]
    }
   ],
   "source": [
    "import pandas as pd\n",
    "import numpy as np\n",
    "\n",
    "# Rastgele veri üretimi için sabit seed\n",
    "np.random.seed(42)\n",
    "\n",
    "# Veri seti oluşturma\n",
    "n_samples = 500\n",
    "data = {\n",
    "    'hava_durumu': np.random.choice(['güneşli', 'yağmurlu', 'karlı'], n_samples, p=[0.6, 0.3, 0.1]),\n",
    "    'uyku_suresi': np.random.normal(7, 1.5, n_samples).clip(4, 10),\n",
    "    'motivasyon': np.random.randint(1, 11, n_samples),\n",
    "    'mesafe': np.random.uniform(0.5, 20, n_samples).round(1),\n",
    "    'gecmis_katilim': np.random.randint(50, 100, n_samples),\n",
    "}\n",
    "\n",
    "# Katılım durumu (hedef değişken) oluşturma\n",
    "probability = (\n",
    "   0.4 * (data['motivasyon'] + data['uyku_suresi'] > 10) +  # Yüksek motivasyon ve uyku süresi\n",
    "    0.3 * (np.array(data['mesafe']) < 10) +                  # Mesafe yakın\n",
    "    0.3 * (np.array(data['gecmis_katilim']) > 60)            # Geçmiş katılım oranı yüksek\n",
    ")\n",
    "# \"geldi\" ve \"gelmedi\" oranını dengelemek\n",
    "class_ratio = 0.5  # \"geldi\" oranı\n",
    "data['katilim'] = np.random.choice(\n",
    "    ['geldi', 'gelmedi'],\n",
    "    n_samples,\n",
    "    p=[class_ratio, 1 - class_ratio]\n",
    ")\n",
    "\n",
    "# DataFrame oluşturma\n",
    "df = pd.DataFrame(data)\n",
    "df.to_csv('ogrenci_katilim.csv', index=False)\n",
    "print(\"Veri seti başarıyla oluşturuldu ve 'ogrenci_katilim.csv' dosyasına kaydedildi!\")\n",
    "print(df['katilim'].value_counts())\n"
   ]
  },
  {
   "cell_type": "markdown",
   "metadata": {},
   "source": [
    "MODEL EĞİTİMİ VE KARŞILAŞTIRMA"
   ]
  },
  {
   "cell_type": "code",
   "execution_count": 31,
   "metadata": {},
   "outputs": [
    {
     "name": "stdout",
     "output_type": "stream",
     "text": [
      "                 Model  Accuracy  Precision    Recall  F1-Score\n",
      "1                  SVM      0.55   0.550000  1.000000  0.709677\n",
      "0  Logistic Regression      0.53   0.571429  0.581818  0.576577\n",
      "9       Neural Network      0.48   0.523077  0.618182  0.566667\n",
      "6          Extra Trees      0.52   0.566038  0.545455  0.555556\n",
      "2        Decision Tree      0.51   0.557692  0.527273  0.542056\n",
      "3        Random Forest      0.49   0.535714  0.545455  0.540541\n",
      "7                  KNN      0.47   0.518519  0.509091  0.513761\n",
      "8          Naive Bayes      0.42   0.476190  0.545455  0.508475\n",
      "4    Gradient Boosting      0.46   0.509434  0.490909  0.500000\n",
      "5             AdaBoost      0.43   0.482143  0.490909  0.486486\n"
     ]
    }
   ],
   "source": [
    "import pandas as pd\n",
    "from sklearn.model_selection import train_test_split, cross_val_score\n",
    "from sklearn.preprocessing import OneHotEncoder\n",
    "from sklearn.metrics import accuracy_score, precision_score, recall_score, f1_score\n",
    "from sklearn.linear_model import LogisticRegression\n",
    "from sklearn.svm import SVC\n",
    "from sklearn.tree import DecisionTreeClassifier\n",
    "from sklearn.ensemble import RandomForestClassifier, GradientBoostingClassifier, AdaBoostClassifier, ExtraTreesClassifier\n",
    "from sklearn.neighbors import KNeighborsClassifier\n",
    "from sklearn.naive_bayes import GaussianNB\n",
    "from sklearn.neural_network import MLPClassifier\n",
    "import numpy as np\n",
    "from sklearn.ensemble import AdaBoostClassifier\n",
    "import warnings\n",
    "warnings.filterwarnings(\"ignore\", category=FutureWarning)\n",
    "\n",
    "# AdaBoostClassifier'ı SAMME algoritmasıyla tanımlayın\n",
    "model = AdaBoostClassifier(algorithm='SAMME', learning_rate=1.0)\n",
    "\n",
    "\n",
    "# Veri yükleme\n",
    "df = pd.read_csv('ogrenci_katilim.csv')\n",
    "\n",
    "# Kategorik değişkenleri dönüştürme\n",
    "encoder = OneHotEncoder()\n",
    "hava_durumu_encoded = encoder.fit_transform(df[['hava_durumu']]).toarray()\n",
    "hava_durumu_df = pd.DataFrame(hava_durumu_encoded, columns=encoder.get_feature_names_out(['hava_durumu']))\n",
    "\n",
    "# Veri setini birleştirme\n",
    "X = pd.concat([df[['uyku_suresi', 'motivasyon', 'mesafe', 'gecmis_katilim']], hava_durumu_df], axis=1)\n",
    "y = df['katilim']\n",
    "\n",
    "# Eğitim ve test ayrımı\n",
    "X_train, X_test, y_train, y_test = train_test_split(X, y, test_size=0.2, random_state=42)\n",
    "\n",
    "# Modellerin listesi\n",
    "models = {\n",
    "    \"Logistic Regression\": LogisticRegression(max_iter=200),\n",
    "    \"SVM\": SVC(),\n",
    "    \"Decision Tree\": DecisionTreeClassifier(),\n",
    "    \"Random Forest\": RandomForestClassifier(),\n",
    "    \"Gradient Boosting\": GradientBoostingClassifier(),\n",
    "    \"AdaBoost\": AdaBoostClassifier(),\n",
    "    \"Extra Trees\": ExtraTreesClassifier(),\n",
    "    \"KNN\": KNeighborsClassifier(),\n",
    "    \"Naive Bayes\": GaussianNB(),\n",
    "    \"Neural Network\": MLPClassifier(max_iter=300)\n",
    "}\n",
    "\n",
    "# Performans değerlendirme\n",
    "results = []\n",
    "\n",
    "for name, model in models.items():\n",
    "    model.fit(X_train, y_train)\n",
    "    y_pred = model.predict(X_test)\n",
    "    accuracy = accuracy_score(y_test, y_pred)\n",
    "    precision = precision_score(y_test, y_pred, pos_label='geldi')\n",
    "    recall = recall_score(y_test, y_pred, pos_label='geldi')\n",
    "    f1 = f1_score(y_test, y_pred, pos_label='geldi')\n",
    "    results.append({\"Model\": name, \"Accuracy\": accuracy, \"Precision\": precision, \"Recall\": recall, \"F1-Score\": f1})\n",
    "\n",
    "# Sonuçları DataFrame olarak görüntüleme\n",
    "results_df = pd.DataFrame(results)\n",
    "print(results_df.sort_values(by=\"F1-Score\", ascending=False))\n"
   ]
  },
  {
   "cell_type": "markdown",
   "metadata": {},
   "source": [
    "MODELİN KAYDEDİLMESİ"
   ]
  },
  {
   "cell_type": "code",
   "execution_count": 32,
   "metadata": {},
   "outputs": [
    {
     "name": "stdout",
     "output_type": "stream",
     "text": [
      "SVM Model Performansı:\n",
      "Accuracy: 0.52\n",
      "Precision: 0.5660377358490566\n",
      "Recall: 0.5454545454545454\n",
      "F1-Score: 0.5555555555555556\n"
     ]
    },
    {
     "data": {
      "text/plain": [
       "['svm_model.joblib']"
      ]
     },
     "execution_count": 32,
     "metadata": {},
     "output_type": "execute_result"
    }
   ],
   "source": [
    "import joblib\n",
    "from sklearn.svm import SVC\n",
    "from sklearn.model_selection import train_test_split\n",
    "from sklearn.metrics import accuracy_score, precision_score, recall_score, f1_score\n",
    "\n",
    "# Veri yükleme\n",
    "df = pd.read_csv('ogrenci_katilim.csv')\n",
    "\n",
    "# Kategorik değişkenleri dönüştürme\n",
    "from sklearn.preprocessing import OneHotEncoder\n",
    "encoder = OneHotEncoder()\n",
    "hava_durumu_encoded = encoder.fit_transform(df[['hava_durumu']]).toarray()\n",
    "hava_durumu_df = pd.DataFrame(hava_durumu_encoded, columns=encoder.get_feature_names_out(['hava_durumu']))\n",
    "\n",
    "# Veri setini birleştirme\n",
    "X = pd.concat([df[['uyku_suresi', 'motivasyon', 'mesafe', 'gecmis_katilim']], hava_durumu_df], axis=1)\n",
    "y = df['katilim']\n",
    "\n",
    "# Eğitim ve test ayrımı\n",
    "X_train, X_test, y_train, y_test = train_test_split(X, y, test_size=0.2, random_state=42)\n",
    "\n",
    "# SVM modelini oluşturma\n",
    "svm_model = SVC(kernel='linear')  # Linear kernel kullanarak SVM modelini oluşturuyoruz\n",
    "svm_model.fit(X_train, y_train)\n",
    "\n",
    "# Modelin performansını değerlendirme\n",
    "y_pred = svm_model.predict(X_test)\n",
    "print(\"SVM Model Performansı:\")\n",
    "print(f\"Accuracy: {accuracy_score(y_test, y_pred)}\")\n",
    "print(f\"Precision: {precision_score(y_test, y_pred, pos_label='geldi')}\")\n",
    "print(f\"Recall: {recall_score(y_test, y_pred, pos_label='geldi')}\")\n",
    "print(f\"F1-Score: {f1_score(y_test, y_pred, pos_label='geldi')}\")\n",
    "\n",
    "# Modeli kaydetme\n",
    "joblib.dump(svm_model, 'svm_model.joblib')\n"
   ]
  }
 ],
 "metadata": {
  "kernelspec": {
   "display_name": "Python 3",
   "language": "python",
   "name": "python3"
  },
  "language_info": {
   "codemirror_mode": {
    "name": "ipython",
    "version": 3
   },
   "file_extension": ".py",
   "mimetype": "text/x-python",
   "name": "python",
   "nbconvert_exporter": "python",
   "pygments_lexer": "ipython3",
   "version": "3.12.6"
  }
 },
 "nbformat": 4,
 "nbformat_minor": 2
}
